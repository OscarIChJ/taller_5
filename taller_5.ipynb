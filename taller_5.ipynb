{
  "nbformat": 4,
  "nbformat_minor": 0,
  "metadata": {
    "colab": {
      "provenance": [],
      "authorship_tag": "ABX9TyO9zqv3Iz9IPuDipca8STMM",
      "include_colab_link": true
    },
    "kernelspec": {
      "name": "python3",
      "display_name": "Python 3"
    },
    "language_info": {
      "name": "python"
    }
  },
  "cells": [
    {
      "cell_type": "markdown",
      "metadata": {
        "id": "view-in-github",
        "colab_type": "text"
      },
      "source": [
        "<a href=\"https://colab.research.google.com/github/OscarIChJ/taller_5/blob/main/taller_5.ipynb\" target=\"_parent\"><img src=\"https://colab.research.google.com/assets/colab-badge.svg\" alt=\"Open In Colab\"/></a>"
      ]
    },
    {
      "cell_type": "code",
      "execution_count": null,
      "metadata": {
        "id": "xdwK-1MSHuf6"
      },
      "outputs": [],
      "source": []
    },
    {
      "cell_type": "markdown",
      "source": [
        "#Taller_5\n",
        "Oscar Ivan Chima jimenez\n",
        "id: 000501416\n",
        " email: oscar.chima@upb.edu.co\n",
        " Marlon Villalba\n",
        " id:000488445\n",
        "email: marlon.villalba@upb.edu.co"
      ],
      "metadata": {
        "id": "g4G3DnIDUj5k"
      }
    },
    {
      "cell_type": "markdown",
      "source": [
        "##Problema_1\n",
        "Escribe un programa en Python que solicite al usuario un número entero positivo y luego imprima los primeros números naturales usando un ciclo while"
      ],
      "metadata": {
        "id": "sRov8e5VU4Zk"
      }
    },
    {
      "cell_type": "code",
      "source": [
        "num = int(input(\"Ingrese un número entero positivo: \"))\n",
        "\n",
        "if num <= 0:\n",
        "    print(\"Ingrese un número entero positivo.\")\n",
        "else:\n",
        "    contador = 1\n",
        "    while contador <= num:\n",
        "        print(contador)\n",
        "        contador += 1"
      ],
      "metadata": {
        "colab": {
          "base_uri": "https://localhost:8080/"
        },
        "id": "JAOogfLfU-gM",
        "outputId": "5f636ea7-9d9e-4262-f76c-9b0bb41e719a"
      },
      "execution_count": 1,
      "outputs": [
        {
          "output_type": "stream",
          "name": "stdout",
          "text": [
            "Ingrese un número entero positivo: 12\n",
            "1\n",
            "2\n",
            "3\n",
            "4\n",
            "5\n",
            "6\n",
            "7\n",
            "8\n",
            "9\n",
            "10\n",
            "11\n",
            "12\n"
          ]
        }
      ]
    },
    {
      "cell_type": "markdown",
      "source": [
        "##Problema_2\n",
        "Escribe un programa en Python que calcule la suma de todos los números pares del 1 al 100 utilizando un ciclo for"
      ],
      "metadata": {
        "id": "x25FTwbwJlao"
      }
    },
    {
      "cell_type": "code",
      "source": [
        "suma = 0\n",
        "for numero in range(1, 101):\n",
        "    if numero % 2 == 0:\n",
        "        suma += numero\n",
        "print(\"La suma de los números pares del 1 al 100 es:\", suma)"
      ],
      "metadata": {
        "colab": {
          "base_uri": "https://localhost:8080/"
        },
        "id": "FpraeIHXVZE8",
        "outputId": "dbd2f364-4eaf-4de6-e6b9-c24ed189a8e4"
      },
      "execution_count": 2,
      "outputs": [
        {
          "output_type": "stream",
          "name": "stdout",
          "text": [
            "La suma de los números pares del 1 al 100 es: 2550\n"
          ]
        }
      ]
    },
    {
      "cell_type": "markdown",
      "source": [
        "##Problema_3\n",
        "Escribe un programa en Python que imprima el siguiente patrón utilizando ciclos anidados: 1 12 123 1234 12345 Etc…\n",
        "\n",
        "\n"
      ],
      "metadata": {
        "id": "Ainv8tBaOsfl"
      }
    },
    {
      "cell_type": "code",
      "source": [
        "num = int(input(\"Ingrese el número de filas para el patrón: \"))\n",
        "for i in range(1, num + 1):\n",
        "    for o in range(1, i + 1):\n",
        "        print(o, end=\"\")\n",
        "    print()"
      ],
      "metadata": {
        "colab": {
          "base_uri": "https://localhost:8080/"
        },
        "id": "Fu8HW4iYVt3r",
        "outputId": "2c41148e-d0fd-44cf-e33c-9dc2861e48e1"
      },
      "execution_count": 3,
      "outputs": [
        {
          "output_type": "stream",
          "name": "stdout",
          "text": [
            "Ingrese el número de filas para el patrón: 9\n",
            "1\n",
            "12\n",
            "123\n",
            "1234\n",
            "12345\n",
            "123456\n",
            "1234567\n",
            "12345678\n",
            "123456789\n"
          ]
        }
      ]
    },
    {
      "cell_type": "markdown",
      "source": [
        "##Problema_4\n",
        "Escribe un programa en Python que solicite al usuario un número entero positivo y\n",
        "luego determine si ese número es primo o no utilizando un ciclo while"
      ],
      "metadata": {
        "id": "RKEcUGpAV6Ng"
      }
    },
    {
      "cell_type": "code",
      "source": [
        "def primo(numero):\n",
        "    if numero < 2:\n",
        "        return False\n",
        "    for i in range(2, numero):\n",
        "        if numero % i == 0:\n",
        "            return False\n",
        "    return True\n",
        "num = int(input(\"Ingrese un número entero positivo: \"))\n",
        "\n",
        "if primo(num):\n",
        "    print(f\"{num} es un número primo.\")\n",
        "else:\n",
        "    print(f\"{num} no es un número primo.\")\n",
        ""
      ],
      "metadata": {
        "colab": {
          "base_uri": "https://localhost:8080/"
        },
        "id": "X9W-ijvyWeOJ",
        "outputId": "a0a5f1b2-d7aa-42ac-b237-09b58950fdd4"
      },
      "execution_count": 16,
      "outputs": [
        {
          "output_type": "stream",
          "name": "stdout",
          "text": [
            "Ingrese un número entero positivo: 7\n",
            "7 es un número primo.\n"
          ]
        }
      ]
    },
    {
      "cell_type": "markdown",
      "source": [
        "##Problema_5\n",
        "Escribe un programa en Python que incluya un ciclo while que no se detenga hasta\n",
        "que el usuario ingrese \"salir\" como entrada. Dentro del ciclo, permite al usuario\n",
        "realizar operaciones matemá;cas simples como suma, resta, multiplicación o\n",
        "división"
      ],
      "metadata": {
        "id": "QxgTfHm0eYjC"
      }
    },
    {
      "cell_type": "code",
      "source": [
        "operacion = input(\"Ingresa una operación matemática (suma, resta, multiplicación, división) o escribe 'salir' para terminar: \")\n",
        "\n",
        "if operacion.lower() == \"salir\":\n",
        "  print(\"Saliendo del programa...\")\n",
        "\n",
        "elif operacion.lower() not in [\"suma\", \"resta\", \"multiplicación\", \"división\"]:\n",
        " print(\"Operación inválida. Por favor, intenta de nuevo.\")\n",
        "\n",
        "else:\n",
        "    num1 = float(input(\"Ingresa el primer número: \"))\n",
        "    num2 = float(input(\"Ingresa el segundo número: \"))\n",
        "\n",
        "if operacion.lower() == \"suma\":\n",
        "            resultado = num1 + num2\n",
        "            print(\"El resultado de la suma es:\", resultado)\n",
        "\n",
        "elif operacion.lower() == \"resta\":\n",
        "            resultado = num1 - num2\n",
        "            print(\"El resultado de la resta es:\", resultado)\n",
        "\n",
        "elif operacion.lower() == \"multiplicación\":\n",
        "            resultado = num1 * num2\n",
        "            print(\"El resultado de la multiplicación es:\", resultado)\n",
        "elif operacion.lower() == \"división\":\n",
        "            if num2 != 0:\n",
        "                resultado = num1 / num2\n",
        "                print(\"El resultado de la división es:\", resultado)\n",
        "            else:\n",
        "                print(\"Error: No es posible dividir entre cero.\")"
      ],
      "metadata": {
        "colab": {
          "base_uri": "https://localhost:8080/"
        },
        "id": "VVG1wGQlgRrI",
        "outputId": "c714d3d6-afe8-4836-f961-245215f3a709"
      },
      "execution_count": 17,
      "outputs": [
        {
          "output_type": "stream",
          "name": "stdout",
          "text": [
            "Ingresa una operación matemática (suma, resta, multiplicación, división) o escribe 'salir' para terminar: resta\n",
            "Ingresa el primer número: 22\n",
            "Ingresa el segundo número: 89\n",
            "El resultado de la resta es: -67.0\n"
          ]
        }
      ]
    },
    {
      "cell_type": "markdown",
      "source": [
        "Problema_6\n",
        "Escribe un programa en Python que imprima los números del 1 al número ingresado\n",
        "por el usuario, en orden descendente u;lizando un ciclo for y la función range()"
      ],
      "metadata": {
        "id": "bqWWq2GPh5At"
      }
    },
    {
      "cell_type": "code",
      "source": [
        "numero = int(input(\"Ingresa un número: \"))\n",
        "for i in range(numero,0, -1):\n",
        "    print(i)"
      ],
      "metadata": {
        "colab": {
          "base_uri": "https://localhost:8080/"
        },
        "id": "rpeK4OtuhEoh",
        "outputId": "e7df9586-7f46-4a7d-a8b4-c53ddc694643"
      },
      "execution_count": 22,
      "outputs": [
        {
          "output_type": "stream",
          "name": "stdout",
          "text": [
            "Ingresa un número: 22\n",
            "22\n",
            "21\n",
            "20\n",
            "19\n",
            "18\n",
            "17\n",
            "16\n",
            "15\n",
            "14\n",
            "13\n",
            "12\n",
            "11\n",
            "10\n",
            "9\n",
            "8\n",
            "7\n",
            "6\n",
            "5\n",
            "4\n",
            "3\n",
            "2\n",
            "1\n"
          ]
        }
      ]
    },
    {
      "cell_type": "markdown",
      "source": [
        "##Problema_7\n",
        "Escribe un programa en Python que imprima la secuencia de números de Fibonacci\n",
        "hasta un valor dado n u;lizando un ciclo while."
      ],
      "metadata": {
        "id": "8uhav5z0jSNz"
      }
    },
    {
      "cell_type": "code",
      "source": [
        "n = int(input(\"Ingrese el valor de n: \"))\n",
        "a, b = 0, 2\n",
        "while a <= n:\n",
        "    print(a, end=\" \")\n",
        "    a, b = b, a + b"
      ],
      "metadata": {
        "colab": {
          "base_uri": "https://localhost:8080/"
        },
        "id": "m1POyBPeiqiC",
        "outputId": "8e64b5c4-936f-4f8e-ebd9-1cf5d3609b88"
      },
      "execution_count": 23,
      "outputs": [
        {
          "output_type": "stream",
          "name": "stdout",
          "text": [
            "Ingrese el valor de n: 8\n",
            "0 2 2 4 6 "
          ]
        }
      ]
    },
    {
      "cell_type": "code",
      "source": [],
      "metadata": {
        "id": "vAeRb0jVkl-5"
      },
      "execution_count": null,
      "outputs": []
    },
    {
      "cell_type": "markdown",
      "source": [
        "##Problema_8\n",
        "Escribe un programa en Python que solicite al usuario un número entero posi;vo y\n",
        "luego calcule la suma de sus dígitos u;lizando un ciclo while."
      ],
      "metadata": {
        "id": "m5_rZeX6kqOq"
      }
    },
    {
      "cell_type": "code",
      "source": [
        "num = int(input(\"Ingrese un numero entero positivo\"))\n",
        "if numero < 0:\n",
        "    print(\"ingrese un número entero positivo.\")\n",
        "else:\n",
        "    suma = 0\n",
        "    while num > 0:\n",
        "        digito = num % 10\n",
        "        suma += digito\n",
        "        num //= 10\n",
        "        print(\"La suma de los dígitos es:\",suma)\n"
      ],
      "metadata": {
        "colab": {
          "base_uri": "https://localhost:8080/"
        },
        "id": "xu1JLR_Tl5d6",
        "outputId": "1c71db6d-d8a2-4769-ebdb-e9b213a83a0b"
      },
      "execution_count": 37,
      "outputs": [
        {
          "output_type": "stream",
          "name": "stdout",
          "text": [
            "Ingrese un numero entero positivo15\n",
            "La suma de los dígitos es: 5\n",
            "La suma de los dígitos es: 6\n"
          ]
        }
      ]
    },
    {
      "cell_type": "code",
      "source": [],
      "metadata": {
        "id": "YM7_qMJamMHx"
      },
      "execution_count": null,
      "outputs": []
    }
  ]
}